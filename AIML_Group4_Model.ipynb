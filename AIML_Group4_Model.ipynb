{
 "cells": [
  {
   "cell_type": "code",
   "execution_count": 16,
   "metadata": {},
   "outputs": [],
   "source": [
    "import pandas as pd\n",
    "import numpy as np\n",
    "import tensorflow as tf"
   ]
  },
  {
   "cell_type": "code",
   "execution_count": 5,
   "metadata": {},
   "outputs": [
    {
     "data": {
      "text/html": [
       "<div>\n",
       "<style scoped>\n",
       "    .dataframe tbody tr th:only-of-type {\n",
       "        vertical-align: middle;\n",
       "    }\n",
       "\n",
       "    .dataframe tbody tr th {\n",
       "        vertical-align: top;\n",
       "    }\n",
       "\n",
       "    .dataframe thead th {\n",
       "        text-align: right;\n",
       "    }\n",
       "</style>\n",
       "<table border=\"1\" class=\"dataframe\">\n",
       "  <thead>\n",
       "    <tr style=\"text-align: right;\">\n",
       "      <th></th>\n",
       "      <th>create_age(months)</th>\n",
       "      <th>expiry_age(months)</th>\n",
       "      <th>update_age(days)</th>\n",
       "      <th>URL</th>\n",
       "      <th>Label</th>\n",
       "    </tr>\n",
       "  </thead>\n",
       "  <tbody>\n",
       "    <tr>\n",
       "      <th>0</th>\n",
       "      <td>-1</td>\n",
       "      <td>-1</td>\n",
       "      <td>-1</td>\n",
       "      <td>http://account-google-com.ngate.my/c44cca40176...</td>\n",
       "      <td>1</td>\n",
       "    </tr>\n",
       "    <tr>\n",
       "      <th>1</th>\n",
       "      <td>212</td>\n",
       "      <td>16</td>\n",
       "      <td>663</td>\n",
       "      <td>http://www.coffeespecialties.com/...</td>\n",
       "      <td>0</td>\n",
       "    </tr>\n",
       "    <tr>\n",
       "      <th>2</th>\n",
       "      <td>-1</td>\n",
       "      <td>-1</td>\n",
       "      <td>-1</td>\n",
       "      <td>http://black.pk/wp-content/2013/04/bp.postale/...</td>\n",
       "      <td>1</td>\n",
       "    </tr>\n",
       "    <tr>\n",
       "      <th>3</th>\n",
       "      <td>198</td>\n",
       "      <td>6</td>\n",
       "      <td>186</td>\n",
       "      <td>http://atomicsoda.com/manutd...</td>\n",
       "      <td>0</td>\n",
       "    </tr>\n",
       "    <tr>\n",
       "      <th>4</th>\n",
       "      <td>240</td>\n",
       "      <td>24</td>\n",
       "      <td>1684</td>\n",
       "      <td>http://bostoncoffeecake.com/...</td>\n",
       "      <td>0</td>\n",
       "    </tr>\n",
       "    <tr>\n",
       "      <th>5</th>\n",
       "      <td>-1</td>\n",
       "      <td>-1</td>\n",
       "      <td>-1</td>\n",
       "      <td>http://www.durst.de/...</td>\n",
       "      <td>0</td>\n",
       "    </tr>\n",
       "    <tr>\n",
       "      <th>6</th>\n",
       "      <td>98</td>\n",
       "      <td>10</td>\n",
       "      <td>57</td>\n",
       "      <td>http://www.jobofmine.com/...</td>\n",
       "      <td>0</td>\n",
       "    </tr>\n",
       "    <tr>\n",
       "      <th>7</th>\n",
       "      <td>2</td>\n",
       "      <td>10</td>\n",
       "      <td>61</td>\n",
       "      <td>http://safetem.com/fcid/login.php?cmd=login_su...</td>\n",
       "      <td>1</td>\n",
       "    </tr>\n",
       "    <tr>\n",
       "      <th>8</th>\n",
       "      <td>21</td>\n",
       "      <td>3</td>\n",
       "      <td>280</td>\n",
       "      <td>http://elicafe.com/...</td>\n",
       "      <td>1</td>\n",
       "    </tr>\n",
       "    <tr>\n",
       "      <th>9</th>\n",
       "      <td>-1</td>\n",
       "      <td>-1</td>\n",
       "      <td>-1</td>\n",
       "      <td>http://www.vgl.ucdavis.edu/informatics/strand....</td>\n",
       "      <td>0</td>\n",
       "    </tr>\n",
       "  </tbody>\n",
       "</table>\n",
       "</div>"
      ],
      "text/plain": [
       "   create_age(months)  expiry_age(months)  update_age(days)  \\\n",
       "0                  -1                  -1                -1   \n",
       "1                 212                  16               663   \n",
       "2                  -1                  -1                -1   \n",
       "3                 198                   6               186   \n",
       "4                 240                  24              1684   \n",
       "5                  -1                  -1                -1   \n",
       "6                  98                  10                57   \n",
       "7                   2                  10                61   \n",
       "8                  21                   3               280   \n",
       "9                  -1                  -1                -1   \n",
       "\n",
       "                                                 URL  Label  \n",
       "0  http://account-google-com.ngate.my/c44cca40176...      1  \n",
       "1               http://www.coffeespecialties.com/...      0  \n",
       "2  http://black.pk/wp-content/2013/04/bp.postale/...      1  \n",
       "3                    http://atomicsoda.com/manutd...      0  \n",
       "4                    http://bostoncoffeecake.com/...      0  \n",
       "5                            http://www.durst.de/...      0  \n",
       "6                       http://www.jobofmine.com/...      0  \n",
       "7  http://safetem.com/fcid/login.php?cmd=login_su...      1  \n",
       "8                             http://elicafe.com/...      1  \n",
       "9  http://www.vgl.ucdavis.edu/informatics/strand....      0  "
      ]
     },
     "execution_count": 5,
     "metadata": {},
     "output_type": "execute_result"
    }
   ],
   "source": [
    "df = pd.read_csv(\"./Phishing_Mitre_Dataset_Summer_of_AI.csv\")\n",
    "\n",
    "df.head(10)"
   ]
  },
  {
   "attachments": {},
   "cell_type": "markdown",
   "metadata": {},
   "source": [
    "Data Exploration"
   ]
  },
  {
   "cell_type": "code",
   "execution_count": 6,
   "metadata": {},
   "outputs": [
    {
     "data": {
      "text/html": [
       "<div>\n",
       "<style scoped>\n",
       "    .dataframe tbody tr th:only-of-type {\n",
       "        vertical-align: middle;\n",
       "    }\n",
       "\n",
       "    .dataframe tbody tr th {\n",
       "        vertical-align: top;\n",
       "    }\n",
       "\n",
       "    .dataframe thead th {\n",
       "        text-align: right;\n",
       "    }\n",
       "</style>\n",
       "<table border=\"1\" class=\"dataframe\">\n",
       "  <thead>\n",
       "    <tr style=\"text-align: right;\">\n",
       "      <th></th>\n",
       "      <th>create_age(months)</th>\n",
       "      <th>expiry_age(months)</th>\n",
       "      <th>update_age(days)</th>\n",
       "      <th>Label</th>\n",
       "    </tr>\n",
       "  </thead>\n",
       "  <tbody>\n",
       "    <tr>\n",
       "      <th>count</th>\n",
       "      <td>4799.000000</td>\n",
       "      <td>4799.000000</td>\n",
       "      <td>4799.000000</td>\n",
       "      <td>4799.000000</td>\n",
       "    </tr>\n",
       "    <tr>\n",
       "      <th>mean</th>\n",
       "      <td>91.288810</td>\n",
       "      <td>12.264430</td>\n",
       "      <td>272.264638</td>\n",
       "      <td>0.532403</td>\n",
       "    </tr>\n",
       "    <tr>\n",
       "      <th>std</th>\n",
       "      <td>92.868921</td>\n",
       "      <td>20.033764</td>\n",
       "      <td>618.276458</td>\n",
       "      <td>0.499001</td>\n",
       "    </tr>\n",
       "    <tr>\n",
       "      <th>min</th>\n",
       "      <td>-1.000000</td>\n",
       "      <td>-78.000000</td>\n",
       "      <td>-115.000000</td>\n",
       "      <td>0.000000</td>\n",
       "    </tr>\n",
       "    <tr>\n",
       "      <th>25%</th>\n",
       "      <td>-1.000000</td>\n",
       "      <td>-1.000000</td>\n",
       "      <td>-1.000000</td>\n",
       "      <td>0.000000</td>\n",
       "    </tr>\n",
       "    <tr>\n",
       "      <th>50%</th>\n",
       "      <td>56.000000</td>\n",
       "      <td>7.000000</td>\n",
       "      <td>91.000000</td>\n",
       "      <td>1.000000</td>\n",
       "    </tr>\n",
       "    <tr>\n",
       "      <th>75%</th>\n",
       "      <td>188.000000</td>\n",
       "      <td>12.000000</td>\n",
       "      <td>292.500000</td>\n",
       "      <td>1.000000</td>\n",
       "    </tr>\n",
       "    <tr>\n",
       "      <th>max</th>\n",
       "      <td>365.000000</td>\n",
       "      <td>120.000000</td>\n",
       "      <td>9959.000000</td>\n",
       "      <td>1.000000</td>\n",
       "    </tr>\n",
       "  </tbody>\n",
       "</table>\n",
       "</div>"
      ],
      "text/plain": [
       "       create_age(months)  expiry_age(months)  update_age(days)        Label\n",
       "count         4799.000000         4799.000000       4799.000000  4799.000000\n",
       "mean            91.288810           12.264430        272.264638     0.532403\n",
       "std             92.868921           20.033764        618.276458     0.499001\n",
       "min             -1.000000          -78.000000       -115.000000     0.000000\n",
       "25%             -1.000000           -1.000000         -1.000000     0.000000\n",
       "50%             56.000000            7.000000         91.000000     1.000000\n",
       "75%            188.000000           12.000000        292.500000     1.000000\n",
       "max            365.000000          120.000000       9959.000000     1.000000"
      ]
     },
     "execution_count": 6,
     "metadata": {},
     "output_type": "execute_result"
    }
   ],
   "source": [
    "df.describe()"
   ]
  },
  {
   "cell_type": "code",
   "execution_count": 7,
   "metadata": {},
   "outputs": [
    {
     "data": {
      "text/plain": [
       "create_age(months)\n",
       "-1      1434\n",
       " 226      91\n",
       " 3        77\n",
       " 2        71\n",
       " 4        40\n",
       "        ... \n",
       " 23        1\n",
       " 295       1\n",
       " 141       1\n",
       " 265       1\n",
       " 274       1\n",
       "Name: count, Length: 286, dtype: int64"
      ]
     },
     "execution_count": 7,
     "metadata": {},
     "output_type": "execute_result"
    }
   ],
   "source": [
    "df[\"create_age(months)\"].value_counts()"
   ]
  },
  {
   "cell_type": "code",
   "execution_count": 8,
   "metadata": {},
   "outputs": [
    {
     "data": {
      "text/plain": [
       "expiry_age(months)\n",
       "-1      1278\n",
       " 9       269\n",
       " 7       233\n",
       " 5       228\n",
       " 8       223\n",
       "        ... \n",
       " 91        1\n",
       " 87        1\n",
       " 104       1\n",
       " 120       1\n",
       "-78        1\n",
       "Name: count, Length: 119, dtype: int64"
      ]
     },
     "execution_count": 8,
     "metadata": {},
     "output_type": "execute_result"
    }
   ],
   "source": [
    "df[\"expiry_age(months)\"].value_counts()"
   ]
  },
  {
   "cell_type": "code",
   "execution_count": 10,
   "metadata": {},
   "outputs": [
    {
     "data": {
      "text/plain": [
       "update_age(days)\n",
       "-1       1476\n",
       " 8         84\n",
       " 46        28\n",
       " 60        28\n",
       " 269       24\n",
       "         ... \n",
       " 524        1\n",
       " 1562       1\n",
       " 679        1\n",
       " 3165       1\n",
       " 745        1\n",
       "Name: count, Length: 885, dtype: int64"
      ]
     },
     "execution_count": 10,
     "metadata": {},
     "output_type": "execute_result"
    }
   ],
   "source": [
    "df[\"update_age(days)\"].value_counts()"
   ]
  },
  {
   "cell_type": "code",
   "execution_count": 11,
   "metadata": {},
   "outputs": [
    {
     "data": {
      "text/plain": [
       "Label\n",
       "1    2555\n",
       "0    2244\n",
       "Name: count, dtype: int64"
      ]
     },
     "execution_count": 11,
     "metadata": {},
     "output_type": "execute_result"
    }
   ],
   "source": [
    "df[\"Label\"].value_counts()"
   ]
  }
 ],
 "metadata": {
  "kernelspec": {
   "display_name": "Python 3",
   "language": "python",
   "name": "python3"
  },
  "language_info": {
   "codemirror_mode": {
    "name": "ipython",
    "version": 3
   },
   "file_extension": ".py",
   "mimetype": "text/x-python",
   "name": "python",
   "nbconvert_exporter": "python",
   "pygments_lexer": "ipython3",
   "version": "3.11.4"
  },
  "orig_nbformat": 4
 },
 "nbformat": 4,
 "nbformat_minor": 2
}
